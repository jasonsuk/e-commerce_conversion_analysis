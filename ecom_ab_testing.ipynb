{
 "cells": [
  {
   "cell_type": "markdown",
   "id": "394513b6-7721-4b6e-940d-96ac448b5075",
   "metadata": {},
   "source": [
    "# E-commerce A/B test \n",
    "\n",
    "The notebook provides an analysis of a e-commerce website A/B test results. <br>\n",
    "The workflow was learned from the Data Analyst Nano Degree course on Udacity."
   ]
  },
  {
   "cell_type": "markdown",
   "id": "64ecad4a-0cba-458f-b0f3-fd5b583d3dbb",
   "metadata": {},
   "source": [
    "## Table of contents\n",
    "1. Set objectives [link](#objective)\n",
    "2. Clean data [link](#clean)\n",
    "3. Analyze the results [link](#analyze)"
   ]
  },
  {
   "cell_type": "code",
   "execution_count": 21,
   "id": "d7ddcdaa-7850-4dec-abd4-2c3f6536aaf7",
   "metadata": {},
   "outputs": [],
   "source": [
    "# Load packages\n",
    "\n",
    "import numpy as np\n",
    "import pandas as pd\n",
    "import matplotlib.pyplot as plt\n",
    "from tqdm import tqdm\n",
    "import statsmodels.api as sm\n",
    "import statsmodels.formula.api as smf\n",
    "from scipy.stats import norm\n",
    "%matplotlib inline"
   ]
  },
  {
   "cell_type": "markdown",
   "id": "e51c22fc-c627-4f2d-8153-43ad26085a78",
   "metadata": {},
   "source": [
    "<span id=\"objective\"></span>\n",
    "\n",
    "## 1. Set objectives\n",
    "Discussion on objective and methodology will be followed by a quick data exploration."
   ]
  },
  {
   "cell_type": "markdown",
   "id": "7d64ad47-133d-40f5-a283-c31f75b8c82b",
   "metadata": {},
   "source": [
    "### Load and explore data "
   ]
  },
  {
   "cell_type": "code",
   "execution_count": 2,
   "id": "482ed41d-6e2a-45a5-ac08-70d9ee7691e8",
   "metadata": {},
   "outputs": [
    {
     "data": {
      "text/html": [
       "<div>\n",
       "<style scoped>\n",
       "    .dataframe tbody tr th:only-of-type {\n",
       "        vertical-align: middle;\n",
       "    }\n",
       "\n",
       "    .dataframe tbody tr th {\n",
       "        vertical-align: top;\n",
       "    }\n",
       "\n",
       "    .dataframe thead th {\n",
       "        text-align: right;\n",
       "    }\n",
       "</style>\n",
       "<table border=\"1\" class=\"dataframe\">\n",
       "  <thead>\n",
       "    <tr style=\"text-align: right;\">\n",
       "      <th></th>\n",
       "      <th>user_id</th>\n",
       "      <th>timestamp</th>\n",
       "      <th>group</th>\n",
       "      <th>landing_page</th>\n",
       "      <th>converted</th>\n",
       "    </tr>\n",
       "  </thead>\n",
       "  <tbody>\n",
       "    <tr>\n",
       "      <th>0</th>\n",
       "      <td>851104</td>\n",
       "      <td>2017-01-21 22:11:48.556739</td>\n",
       "      <td>control</td>\n",
       "      <td>old_page</td>\n",
       "      <td>0</td>\n",
       "    </tr>\n",
       "    <tr>\n",
       "      <th>1</th>\n",
       "      <td>804228</td>\n",
       "      <td>2017-01-12 08:01:45.159739</td>\n",
       "      <td>control</td>\n",
       "      <td>old_page</td>\n",
       "      <td>0</td>\n",
       "    </tr>\n",
       "    <tr>\n",
       "      <th>2</th>\n",
       "      <td>661590</td>\n",
       "      <td>2017-01-11 16:55:06.154213</td>\n",
       "      <td>treatment</td>\n",
       "      <td>new_page</td>\n",
       "      <td>0</td>\n",
       "    </tr>\n",
       "    <tr>\n",
       "      <th>3</th>\n",
       "      <td>853541</td>\n",
       "      <td>2017-01-08 18:28:03.143765</td>\n",
       "      <td>treatment</td>\n",
       "      <td>new_page</td>\n",
       "      <td>0</td>\n",
       "    </tr>\n",
       "    <tr>\n",
       "      <th>4</th>\n",
       "      <td>864975</td>\n",
       "      <td>2017-01-21 01:52:26.210827</td>\n",
       "      <td>control</td>\n",
       "      <td>old_page</td>\n",
       "      <td>1</td>\n",
       "    </tr>\n",
       "  </tbody>\n",
       "</table>\n",
       "</div>"
      ],
      "text/plain": [
       "   user_id                   timestamp      group landing_page  converted\n",
       "0   851104  2017-01-21 22:11:48.556739    control     old_page          0\n",
       "1   804228  2017-01-12 08:01:45.159739    control     old_page          0\n",
       "2   661590  2017-01-11 16:55:06.154213  treatment     new_page          0\n",
       "3   853541  2017-01-08 18:28:03.143765  treatment     new_page          0\n",
       "4   864975  2017-01-21 01:52:26.210827    control     old_page          1"
      ]
     },
     "execution_count": 2,
     "metadata": {},
     "output_type": "execute_result"
    }
   ],
   "source": [
    "## Load dataset\n",
    "\n",
    "df = pd.read_csv('./ab_data.csv')\n",
    "df.head()"
   ]
  },
  {
   "cell_type": "code",
   "execution_count": 3,
   "id": "957b1563-0a41-47e7-a408-bb917da7c622",
   "metadata": {},
   "outputs": [
    {
     "name": "stdout",
     "output_type": "stream",
     "text": [
      "Total data records: 294478\n",
      "Unique groups in test: ['control' 'treatment']\n",
      "Unique pages to test: ['old_page' 'new_page']\n",
      "Unique values for converision: [0 1]\n"
     ]
    }
   ],
   "source": [
    "# Explore data structure\n",
    "\n",
    "print('Total data records:', df.shape[0])\n",
    "print('Unique groups in test:', df['group'].unique())\n",
    "print('Unique pages to test:', df['landing_page'].unique())\n",
    "print('Unique values for converision:', df['converted'].unique())"
   ]
  },
  {
   "cell_type": "code",
   "execution_count": 4,
   "id": "5cfb521f-c8a6-4f8d-a161-f8755d082f32",
   "metadata": {},
   "outputs": [
    {
     "data": {
      "text/plain": [
       "group\n",
       "control      147202\n",
       "treatment    147276\n",
       "dtype: int64"
      ]
     },
     "execution_count": 4,
     "metadata": {},
     "output_type": "execute_result"
    }
   ],
   "source": [
    "# Size of the dataset by each group\n",
    "\n",
    "df.groupby('group').size()"
   ]
  },
  {
   "cell_type": "code",
   "execution_count": 33,
   "id": "53ed28b0-fbe6-49b6-8095-86a74c7bc51b",
   "metadata": {},
   "outputs": [
    {
     "name": "stdout",
     "output_type": "stream",
     "text": [
      "The study ranges between: 2017-01-02 and 2017-01-24\n"
     ]
    }
   ],
   "source": [
    "# Period of the study\n",
    "\n",
    "print('The study ranges between: {} and {}'.format(pd.to_datetime(df['timestamp']).min().date(), \n",
    "                                                   pd.to_datetime(df['timestamp']).max().date()))"
   ]
  },
  {
   "cell_type": "markdown",
   "id": "3c7c0cef-2710-4b4e-8428-7f676ae26f0f",
   "metadata": {},
   "source": [
    "#### Quick findings\n",
    "\n",
    "- The data were gathered to analyze the effectiveness of a e-commerce website design change. \n",
    "- Assumption: the participants are randomly divided into the two test groups: control and treatment. Then, control group is provided with old page whereas treatment group is provided with new page. \n",
    "- Each group has similar data size.\n",
    "- The period of this study is between 2017-01-02 and 2017-01-24 (about 3 weeks). "
   ]
  },
  {
   "cell_type": "markdown",
   "id": "38d63e9a-f774-4d35-8fe3-d8088cc30a02",
   "metadata": {},
   "source": [
    "### Objective\n",
    "\n",
    "The objective is to evaluate if there is a noticeable difference in conversion rate between two test groups. Each group should be provided with different page: old or new page. \n",
    "\n",
    "Hypotheses are given as following:\n",
    "\n",
    "- $H_{0}: C_{new} - C_{old} <= 0$\n",
    "- $H_{1}: C_{new} - C_{old} > 0$\n",
    "\n",
    "C stands for conversion rate.\n",
    "\n",
    "If the null hypothesis $H_{0}$ can be rejected in favor of $H_{1}$, a new page will be considered for deployment. Before the actual deployment, pratical assessments on costs, time, other constraints.\n",
    "\n",
    "\n",
    "### Methodology\n",
    "\n",
    "Firstly, data cleaning will be performed to handle missing, duplicated or incorrect data records. <br>\n",
    "Statistical methods will then be applied to test if the new page is more effective in conversion than the old page. \n",
    "\n",
    "Three approaches will be taken:\n",
    "1. Simulation\n",
    "2. Z-test (using scipy function)\n",
    "3. Regression \n"
   ]
  },
  {
   "cell_type": "markdown",
   "id": "08ba884b-dcd1-4077-90a1-8bfe1224c260",
   "metadata": {},
   "source": [
    "---\n",
    "<span id=\"clean\"></span>\n",
    "\n",
    "## 2. Clean dataset\n",
    "- validate data records\n",
    "- handle missing and duplicated values"
   ]
  },
  {
   "cell_type": "markdown",
   "id": "2ad17eb0-c63d-49bf-8349-75e123456e0b",
   "metadata": {},
   "source": [
    "### Validate data records\n",
    "Each group must be associated clearly with one of the two test pages:\n",
    "- control: old page\n",
    "- treatment: new page\n",
    "\n",
    "Let's inspect if there are inconsistant data records."
   ]
  },
  {
   "cell_type": "code",
   "execution_count": 38,
   "id": "0bcd84f8-7279-4082-82b1-8a7a2fc4f2b2",
   "metadata": {},
   "outputs": [
    {
     "data": {
      "text/html": [
       "<div>\n",
       "<style scoped>\n",
       "    .dataframe tbody tr th:only-of-type {\n",
       "        vertical-align: middle;\n",
       "    }\n",
       "\n",
       "    .dataframe tbody tr th {\n",
       "        vertical-align: top;\n",
       "    }\n",
       "\n",
       "    .dataframe thead th {\n",
       "        text-align: right;\n",
       "    }\n",
       "</style>\n",
       "<table border=\"1\" class=\"dataframe\">\n",
       "  <thead>\n",
       "    <tr style=\"text-align: right;\">\n",
       "      <th></th>\n",
       "      <th>user_id</th>\n",
       "      <th>timestamp</th>\n",
       "      <th>group</th>\n",
       "      <th>landing_page</th>\n",
       "      <th>converted</th>\n",
       "    </tr>\n",
       "  </thead>\n",
       "  <tbody>\n",
       "    <tr>\n",
       "      <th>22</th>\n",
       "      <td>767017</td>\n",
       "      <td>2017-01-12 22:58:14.991443</td>\n",
       "      <td>control</td>\n",
       "      <td>new_page</td>\n",
       "      <td>0</td>\n",
       "    </tr>\n",
       "    <tr>\n",
       "      <th>240</th>\n",
       "      <td>733976</td>\n",
       "      <td>2017-01-11 15:11:16.407599</td>\n",
       "      <td>control</td>\n",
       "      <td>new_page</td>\n",
       "      <td>0</td>\n",
       "    </tr>\n",
       "    <tr>\n",
       "      <th>490</th>\n",
       "      <td>808613</td>\n",
       "      <td>2017-01-10 21:44:01.292755</td>\n",
       "      <td>control</td>\n",
       "      <td>new_page</td>\n",
       "      <td>0</td>\n",
       "    </tr>\n",
       "    <tr>\n",
       "      <th>846</th>\n",
       "      <td>637639</td>\n",
       "      <td>2017-01-11 23:09:52.682329</td>\n",
       "      <td>control</td>\n",
       "      <td>new_page</td>\n",
       "      <td>1</td>\n",
       "    </tr>\n",
       "    <tr>\n",
       "      <th>850</th>\n",
       "      <td>793580</td>\n",
       "      <td>2017-01-08 03:25:33.723712</td>\n",
       "      <td>control</td>\n",
       "      <td>new_page</td>\n",
       "      <td>1</td>\n",
       "    </tr>\n",
       "    <tr>\n",
       "      <th>...</th>\n",
       "      <td>...</td>\n",
       "      <td>...</td>\n",
       "      <td>...</td>\n",
       "      <td>...</td>\n",
       "      <td>...</td>\n",
       "    </tr>\n",
       "    <tr>\n",
       "      <th>293894</th>\n",
       "      <td>741581</td>\n",
       "      <td>2017-01-09 20:49:03.391764</td>\n",
       "      <td>control</td>\n",
       "      <td>new_page</td>\n",
       "      <td>0</td>\n",
       "    </tr>\n",
       "    <tr>\n",
       "      <th>293996</th>\n",
       "      <td>942612</td>\n",
       "      <td>2017-01-08 13:52:28.182648</td>\n",
       "      <td>control</td>\n",
       "      <td>new_page</td>\n",
       "      <td>0</td>\n",
       "    </tr>\n",
       "    <tr>\n",
       "      <th>294200</th>\n",
       "      <td>928506</td>\n",
       "      <td>2017-01-13 21:32:10.491309</td>\n",
       "      <td>control</td>\n",
       "      <td>new_page</td>\n",
       "      <td>0</td>\n",
       "    </tr>\n",
       "    <tr>\n",
       "      <th>294253</th>\n",
       "      <td>886135</td>\n",
       "      <td>2017-01-06 12:49:20.509403</td>\n",
       "      <td>control</td>\n",
       "      <td>new_page</td>\n",
       "      <td>0</td>\n",
       "    </tr>\n",
       "    <tr>\n",
       "      <th>294331</th>\n",
       "      <td>689637</td>\n",
       "      <td>2017-01-13 11:34:28.339532</td>\n",
       "      <td>control</td>\n",
       "      <td>new_page</td>\n",
       "      <td>0</td>\n",
       "    </tr>\n",
       "  </tbody>\n",
       "</table>\n",
       "<p>1928 rows × 5 columns</p>\n",
       "</div>"
      ],
      "text/plain": [
       "        user_id                   timestamp    group landing_page  converted\n",
       "22       767017  2017-01-12 22:58:14.991443  control     new_page          0\n",
       "240      733976  2017-01-11 15:11:16.407599  control     new_page          0\n",
       "490      808613  2017-01-10 21:44:01.292755  control     new_page          0\n",
       "846      637639  2017-01-11 23:09:52.682329  control     new_page          1\n",
       "850      793580  2017-01-08 03:25:33.723712  control     new_page          1\n",
       "...         ...                         ...      ...          ...        ...\n",
       "293894   741581  2017-01-09 20:49:03.391764  control     new_page          0\n",
       "293996   942612  2017-01-08 13:52:28.182648  control     new_page          0\n",
       "294200   928506  2017-01-13 21:32:10.491309  control     new_page          0\n",
       "294253   886135  2017-01-06 12:49:20.509403  control     new_page          0\n",
       "294331   689637  2017-01-13 11:34:28.339532  control     new_page          0\n",
       "\n",
       "[1928 rows x 5 columns]"
      ]
     },
     "execution_count": 38,
     "metadata": {},
     "output_type": "execute_result"
    }
   ],
   "source": [
    "# Filter inconsistent records (control - new page)\n",
    "\n",
    "df.query('group == \"control\" & landing_page == \"new_page\"')"
   ]
  },
  {
   "cell_type": "code",
   "execution_count": 40,
   "id": "62198a5d-d78c-438d-895c-01566ae799f8",
   "metadata": {},
   "outputs": [
    {
     "data": {
      "text/html": [
       "<div>\n",
       "<style scoped>\n",
       "    .dataframe tbody tr th:only-of-type {\n",
       "        vertical-align: middle;\n",
       "    }\n",
       "\n",
       "    .dataframe tbody tr th {\n",
       "        vertical-align: top;\n",
       "    }\n",
       "\n",
       "    .dataframe thead th {\n",
       "        text-align: right;\n",
       "    }\n",
       "</style>\n",
       "<table border=\"1\" class=\"dataframe\">\n",
       "  <thead>\n",
       "    <tr style=\"text-align: right;\">\n",
       "      <th></th>\n",
       "      <th>user_id</th>\n",
       "      <th>timestamp</th>\n",
       "      <th>group</th>\n",
       "      <th>landing_page</th>\n",
       "      <th>converted</th>\n",
       "    </tr>\n",
       "  </thead>\n",
       "  <tbody>\n",
       "    <tr>\n",
       "      <th>308</th>\n",
       "      <td>857184</td>\n",
       "      <td>2017-01-20 07:34:59.832626</td>\n",
       "      <td>treatment</td>\n",
       "      <td>old_page</td>\n",
       "      <td>0</td>\n",
       "    </tr>\n",
       "    <tr>\n",
       "      <th>327</th>\n",
       "      <td>686623</td>\n",
       "      <td>2017-01-09 14:26:40.734775</td>\n",
       "      <td>treatment</td>\n",
       "      <td>old_page</td>\n",
       "      <td>0</td>\n",
       "    </tr>\n",
       "    <tr>\n",
       "      <th>357</th>\n",
       "      <td>856078</td>\n",
       "      <td>2017-01-12 12:29:30.354835</td>\n",
       "      <td>treatment</td>\n",
       "      <td>old_page</td>\n",
       "      <td>0</td>\n",
       "    </tr>\n",
       "    <tr>\n",
       "      <th>685</th>\n",
       "      <td>666385</td>\n",
       "      <td>2017-01-23 08:11:54.823806</td>\n",
       "      <td>treatment</td>\n",
       "      <td>old_page</td>\n",
       "      <td>0</td>\n",
       "    </tr>\n",
       "    <tr>\n",
       "      <th>713</th>\n",
       "      <td>748761</td>\n",
       "      <td>2017-01-10 15:47:44.445196</td>\n",
       "      <td>treatment</td>\n",
       "      <td>old_page</td>\n",
       "      <td>0</td>\n",
       "    </tr>\n",
       "    <tr>\n",
       "      <th>...</th>\n",
       "      <td>...</td>\n",
       "      <td>...</td>\n",
       "      <td>...</td>\n",
       "      <td>...</td>\n",
       "      <td>...</td>\n",
       "    </tr>\n",
       "    <tr>\n",
       "      <th>293773</th>\n",
       "      <td>688144</td>\n",
       "      <td>2017-01-16 20:34:50.450528</td>\n",
       "      <td>treatment</td>\n",
       "      <td>old_page</td>\n",
       "      <td>1</td>\n",
       "    </tr>\n",
       "    <tr>\n",
       "      <th>293817</th>\n",
       "      <td>876037</td>\n",
       "      <td>2017-01-17 16:15:08.957152</td>\n",
       "      <td>treatment</td>\n",
       "      <td>old_page</td>\n",
       "      <td>1</td>\n",
       "    </tr>\n",
       "    <tr>\n",
       "      <th>293917</th>\n",
       "      <td>738357</td>\n",
       "      <td>2017-01-05 15:37:55.729133</td>\n",
       "      <td>treatment</td>\n",
       "      <td>old_page</td>\n",
       "      <td>0</td>\n",
       "    </tr>\n",
       "    <tr>\n",
       "      <th>294014</th>\n",
       "      <td>813406</td>\n",
       "      <td>2017-01-09 06:25:33.223301</td>\n",
       "      <td>treatment</td>\n",
       "      <td>old_page</td>\n",
       "      <td>0</td>\n",
       "    </tr>\n",
       "    <tr>\n",
       "      <th>294252</th>\n",
       "      <td>892498</td>\n",
       "      <td>2017-01-22 01:11:10.463211</td>\n",
       "      <td>treatment</td>\n",
       "      <td>old_page</td>\n",
       "      <td>0</td>\n",
       "    </tr>\n",
       "  </tbody>\n",
       "</table>\n",
       "<p>1965 rows × 5 columns</p>\n",
       "</div>"
      ],
      "text/plain": [
       "        user_id                   timestamp      group landing_page  converted\n",
       "308      857184  2017-01-20 07:34:59.832626  treatment     old_page          0\n",
       "327      686623  2017-01-09 14:26:40.734775  treatment     old_page          0\n",
       "357      856078  2017-01-12 12:29:30.354835  treatment     old_page          0\n",
       "685      666385  2017-01-23 08:11:54.823806  treatment     old_page          0\n",
       "713      748761  2017-01-10 15:47:44.445196  treatment     old_page          0\n",
       "...         ...                         ...        ...          ...        ...\n",
       "293773   688144  2017-01-16 20:34:50.450528  treatment     old_page          1\n",
       "293817   876037  2017-01-17 16:15:08.957152  treatment     old_page          1\n",
       "293917   738357  2017-01-05 15:37:55.729133  treatment     old_page          0\n",
       "294014   813406  2017-01-09 06:25:33.223301  treatment     old_page          0\n",
       "294252   892498  2017-01-22 01:11:10.463211  treatment     old_page          0\n",
       "\n",
       "[1965 rows x 5 columns]"
      ]
     },
     "execution_count": 40,
     "metadata": {},
     "output_type": "execute_result"
    }
   ],
   "source": [
    "# Filter inconsistent records (treatment - old page)\n",
    "\n",
    "df.query('group == \"treatment\" & landing_page == \"old_page\"')"
   ]
  },
  {
   "cell_type": "code",
   "execution_count": 70,
   "id": "83b1e5a4-f5a5-4ee2-a410-a9837c9b04eb",
   "metadata": {},
   "outputs": [
    {
     "data": {
      "text/html": [
       "<div>\n",
       "<style scoped>\n",
       "    .dataframe tbody tr th:only-of-type {\n",
       "        vertical-align: middle;\n",
       "    }\n",
       "\n",
       "    .dataframe tbody tr th {\n",
       "        vertical-align: top;\n",
       "    }\n",
       "\n",
       "    .dataframe thead th {\n",
       "        text-align: right;\n",
       "    }\n",
       "</style>\n",
       "<table border=\"1\" class=\"dataframe\">\n",
       "  <thead>\n",
       "    <tr style=\"text-align: right;\">\n",
       "      <th></th>\n",
       "      <th>user_id</th>\n",
       "      <th>timestamp</th>\n",
       "      <th>group</th>\n",
       "      <th>landing_page</th>\n",
       "      <th>converted</th>\n",
       "    </tr>\n",
       "  </thead>\n",
       "  <tbody>\n",
       "    <tr>\n",
       "      <th>230259</th>\n",
       "      <td>630052</td>\n",
       "      <td>2017-01-17 01:16:05.208766</td>\n",
       "      <td>treatment</td>\n",
       "      <td>new_page</td>\n",
       "      <td>0</td>\n",
       "    </tr>\n",
       "    <tr>\n",
       "      <th>213114</th>\n",
       "      <td>630052</td>\n",
       "      <td>2017-01-07 12:25:54.089486</td>\n",
       "      <td>treatment</td>\n",
       "      <td>old_page</td>\n",
       "      <td>1</td>\n",
       "    </tr>\n",
       "    <tr>\n",
       "      <th>22513</th>\n",
       "      <td>630126</td>\n",
       "      <td>2017-01-14 13:35:54.778695</td>\n",
       "      <td>treatment</td>\n",
       "      <td>old_page</td>\n",
       "      <td>0</td>\n",
       "    </tr>\n",
       "    <tr>\n",
       "      <th>251762</th>\n",
       "      <td>630126</td>\n",
       "      <td>2017-01-19 17:16:00.280440</td>\n",
       "      <td>treatment</td>\n",
       "      <td>new_page</td>\n",
       "      <td>0</td>\n",
       "    </tr>\n",
       "    <tr>\n",
       "      <th>183371</th>\n",
       "      <td>630137</td>\n",
       "      <td>2017-01-20 02:08:49.893878</td>\n",
       "      <td>control</td>\n",
       "      <td>old_page</td>\n",
       "      <td>0</td>\n",
       "    </tr>\n",
       "    <tr>\n",
       "      <th>...</th>\n",
       "      <td>...</td>\n",
       "      <td>...</td>\n",
       "      <td>...</td>\n",
       "      <td>...</td>\n",
       "      <td>...</td>\n",
       "    </tr>\n",
       "    <tr>\n",
       "      <th>142354</th>\n",
       "      <td>945703</td>\n",
       "      <td>2017-01-08 19:40:51.169351</td>\n",
       "      <td>control</td>\n",
       "      <td>new_page</td>\n",
       "      <td>0</td>\n",
       "    </tr>\n",
       "    <tr>\n",
       "      <th>186960</th>\n",
       "      <td>945797</td>\n",
       "      <td>2017-01-13 17:23:21.750962</td>\n",
       "      <td>control</td>\n",
       "      <td>old_page</td>\n",
       "      <td>0</td>\n",
       "    </tr>\n",
       "    <tr>\n",
       "      <th>40370</th>\n",
       "      <td>945797</td>\n",
       "      <td>2017-01-11 03:04:49.433736</td>\n",
       "      <td>control</td>\n",
       "      <td>new_page</td>\n",
       "      <td>1</td>\n",
       "    </tr>\n",
       "    <tr>\n",
       "      <th>165143</th>\n",
       "      <td>945971</td>\n",
       "      <td>2017-01-16 10:09:18.383183</td>\n",
       "      <td>control</td>\n",
       "      <td>old_page</td>\n",
       "      <td>0</td>\n",
       "    </tr>\n",
       "    <tr>\n",
       "      <th>131756</th>\n",
       "      <td>945971</td>\n",
       "      <td>2017-01-22 12:43:54.087275</td>\n",
       "      <td>control</td>\n",
       "      <td>new_page</td>\n",
       "      <td>0</td>\n",
       "    </tr>\n",
       "  </tbody>\n",
       "</table>\n",
       "<p>7788 rows × 5 columns</p>\n",
       "</div>"
      ],
      "text/plain": [
       "        user_id                   timestamp      group landing_page  converted\n",
       "230259   630052  2017-01-17 01:16:05.208766  treatment     new_page          0\n",
       "213114   630052  2017-01-07 12:25:54.089486  treatment     old_page          1\n",
       "22513    630126  2017-01-14 13:35:54.778695  treatment     old_page          0\n",
       "251762   630126  2017-01-19 17:16:00.280440  treatment     new_page          0\n",
       "183371   630137  2017-01-20 02:08:49.893878    control     old_page          0\n",
       "...         ...                         ...        ...          ...        ...\n",
       "142354   945703  2017-01-08 19:40:51.169351    control     new_page          0\n",
       "186960   945797  2017-01-13 17:23:21.750962    control     old_page          0\n",
       "40370    945797  2017-01-11 03:04:49.433736    control     new_page          1\n",
       "165143   945971  2017-01-16 10:09:18.383183    control     old_page          0\n",
       "131756   945971  2017-01-22 12:43:54.087275    control     new_page          0\n",
       "\n",
       "[7788 rows x 5 columns]"
      ]
     },
     "execution_count": 70,
     "metadata": {},
     "output_type": "execute_result"
    }
   ],
   "source": [
    "df[df.duplicated(subset='user_id', keep=False)].sort_values(by='user_id')"
   ]
  },
  {
   "cell_type": "markdown",
   "id": "8700f8df-9a8d-4eff-b20d-ffcf5cab8930",
   "metadata": {},
   "source": [
    "There are limited information on how these incorrect data have been generated. This issue comes from the duplicated assignments, for example, the same user is assigned with both old and new page and it is completely incorrect.\n",
    "\n",
    "In the real work setting, this issue must be clarified bewteen departments. However, for this project, these inconsistent records will be dropped (acconts for 1.3% of total records, calculated as (1928+1965) / 294478)."
   ]
  },
  {
   "cell_type": "code",
   "execution_count": 3,
   "id": "8900ec77-6f72-48ef-8b49-acefc8286447",
   "metadata": {},
   "outputs": [],
   "source": [
    "# Save mismatched records in a dataframe\n",
    "\n",
    "mismatch1 = df.query('group == \"control\" & landing_page == \"new_page\"')\n",
    "mismatch2 = df.query('group == \"treatment\" & landing_page == \"old_page\"')\n",
    "mismatched_records = mismatch1.append(mismatch2)"
   ]
  },
  {
   "cell_type": "code",
   "execution_count": 4,
   "id": "e6dc2464-14a1-4519-929b-64b4dd5fa6bf",
   "metadata": {},
   "outputs": [],
   "source": [
    "# Drop the records and check \n",
    "\n",
    "df_clean = df.drop(index=mismatched_records.index)\n",
    "assert df_clean.query('group == \"control\" & landing_page == \"new_page\"').shape[0] == 0, 'ERROR: some records in control still have new page assigned.'\n",
    "assert df_clean.query('group == \"treatment\" & landing_page == \"old_page\"').shape[0] == 0, 'ERROR: some records in treatment still have old page assigned.'"
   ]
  },
  {
   "cell_type": "markdown",
   "id": "73f10aea-e877-4ac2-a8ed-883e23fa0e7e",
   "metadata": {},
   "source": [
    "### Inspect null and duplicated values"
   ]
  },
  {
   "cell_type": "code",
   "execution_count": 7,
   "id": "6d505645-3ea8-41b2-a7bc-c2b896ae7d9c",
   "metadata": {},
   "outputs": [
    {
     "data": {
      "text/plain": [
       "user_id         0\n",
       "timestamp       0\n",
       "group           0\n",
       "landing_page    0\n",
       "converted       0\n",
       "dtype: int64"
      ]
     },
     "execution_count": 7,
     "metadata": {},
     "output_type": "execute_result"
    }
   ],
   "source": [
    "# Find duplicated values across different columns\n",
    "\n",
    "df_clean.isnull().sum()"
   ]
  },
  {
   "cell_type": "markdown",
   "id": "93f6c293-3e0b-46e9-ab43-e1cb98196718",
   "metadata": {},
   "source": [
    "No missing records across columns."
   ]
  },
  {
   "cell_type": "code",
   "execution_count": 8,
   "id": "d3b76819-0f7a-43db-8f5b-ab404f952428",
   "metadata": {},
   "outputs": [
    {
     "data": {
      "text/plain": [
       "1"
      ]
     },
     "execution_count": 8,
     "metadata": {},
     "output_type": "execute_result"
    }
   ],
   "source": [
    "# Find duplicated data records by user_id\n",
    "\n",
    "df_clean.duplicated(subset='user_id').sum()"
   ]
  },
  {
   "cell_type": "code",
   "execution_count": 9,
   "id": "bd1718ad-8047-4ff5-b398-914054066871",
   "metadata": {},
   "outputs": [
    {
     "data": {
      "text/html": [
       "<div>\n",
       "<style scoped>\n",
       "    .dataframe tbody tr th:only-of-type {\n",
       "        vertical-align: middle;\n",
       "    }\n",
       "\n",
       "    .dataframe tbody tr th {\n",
       "        vertical-align: top;\n",
       "    }\n",
       "\n",
       "    .dataframe thead th {\n",
       "        text-align: right;\n",
       "    }\n",
       "</style>\n",
       "<table border=\"1\" class=\"dataframe\">\n",
       "  <thead>\n",
       "    <tr style=\"text-align: right;\">\n",
       "      <th></th>\n",
       "      <th>user_id</th>\n",
       "      <th>timestamp</th>\n",
       "      <th>group</th>\n",
       "      <th>landing_page</th>\n",
       "      <th>converted</th>\n",
       "    </tr>\n",
       "  </thead>\n",
       "  <tbody>\n",
       "    <tr>\n",
       "      <th>1899</th>\n",
       "      <td>773192</td>\n",
       "      <td>2017-01-09 05:37:58.781806</td>\n",
       "      <td>treatment</td>\n",
       "      <td>new_page</td>\n",
       "      <td>0</td>\n",
       "    </tr>\n",
       "    <tr>\n",
       "      <th>2893</th>\n",
       "      <td>773192</td>\n",
       "      <td>2017-01-14 02:55:59.590927</td>\n",
       "      <td>treatment</td>\n",
       "      <td>new_page</td>\n",
       "      <td>0</td>\n",
       "    </tr>\n",
       "  </tbody>\n",
       "</table>\n",
       "</div>"
      ],
      "text/plain": [
       "      user_id                   timestamp      group landing_page  converted\n",
       "1899   773192  2017-01-09 05:37:58.781806  treatment     new_page          0\n",
       "2893   773192  2017-01-14 02:55:59.590927  treatment     new_page          0"
      ]
     },
     "execution_count": 9,
     "metadata": {},
     "output_type": "execute_result"
    }
   ],
   "source": [
    "df_clean[df_clean.duplicated(subset='user_id', keep=False)].sort_values(by='user_id')"
   ]
  },
  {
   "cell_type": "markdown",
   "id": "2ee30e4e-ce34-419c-9c45-facf2cdb1c76",
   "metadata": {},
   "source": [
    "The earlier cleaning for mismatched records removed most of the duplicated entries.  As the two duplicated records deliver the same information under the same user, drop one of them."
   ]
  },
  {
   "cell_type": "code",
   "execution_count": 5,
   "id": "15996167-aabc-4e9a-9a44-e36193fa37df",
   "metadata": {},
   "outputs": [],
   "source": [
    "# Drop the duplicated records\n",
    "\n",
    "df_clean.drop_duplicates(subset='user_id', keep='first', inplace=True)\n",
    "assert df_clean.duplicated(subset='user_id').sum() == 0, 'ERROR: Duplicated records still exist.'"
   ]
  },
  {
   "cell_type": "markdown",
   "id": "4c06c9b8-468f-4245-b06c-87c0b1625f3f",
   "metadata": {},
   "source": [
    "---\n",
    "<span id=\"analyze\"></span>\n",
    "    \n",
    "## 3. Analyze the results"
   ]
  },
  {
   "cell_type": "markdown",
   "id": "a0ddbc9b-e3e4-4969-b760-a5830b2619a0",
   "metadata": {},
   "source": [
    "### Method 1. Simulation"
   ]
  },
  {
   "cell_type": "code",
   "execution_count": 12,
   "id": "9a40ce20-85bb-4348-8ba0-e76465bea359",
   "metadata": {},
   "outputs": [
    {
     "data": {
      "text/html": [
       "<div>\n",
       "<style scoped>\n",
       "    .dataframe tbody tr th:only-of-type {\n",
       "        vertical-align: middle;\n",
       "    }\n",
       "\n",
       "    .dataframe tbody tr th {\n",
       "        vertical-align: top;\n",
       "    }\n",
       "\n",
       "    .dataframe thead th {\n",
       "        text-align: right;\n",
       "    }\n",
       "</style>\n",
       "<table border=\"1\" class=\"dataframe\">\n",
       "  <thead>\n",
       "    <tr style=\"text-align: right;\">\n",
       "      <th></th>\n",
       "      <th>user_id</th>\n",
       "      <th>timestamp</th>\n",
       "      <th>group</th>\n",
       "      <th>landing_page</th>\n",
       "      <th>converted</th>\n",
       "    </tr>\n",
       "  </thead>\n",
       "  <tbody>\n",
       "    <tr>\n",
       "      <th>0</th>\n",
       "      <td>851104</td>\n",
       "      <td>2017-01-21 22:11:48.556739</td>\n",
       "      <td>control</td>\n",
       "      <td>old_page</td>\n",
       "      <td>0</td>\n",
       "    </tr>\n",
       "    <tr>\n",
       "      <th>1</th>\n",
       "      <td>804228</td>\n",
       "      <td>2017-01-12 08:01:45.159739</td>\n",
       "      <td>control</td>\n",
       "      <td>old_page</td>\n",
       "      <td>0</td>\n",
       "    </tr>\n",
       "    <tr>\n",
       "      <th>2</th>\n",
       "      <td>661590</td>\n",
       "      <td>2017-01-11 16:55:06.154213</td>\n",
       "      <td>treatment</td>\n",
       "      <td>new_page</td>\n",
       "      <td>0</td>\n",
       "    </tr>\n",
       "    <tr>\n",
       "      <th>3</th>\n",
       "      <td>853541</td>\n",
       "      <td>2017-01-08 18:28:03.143765</td>\n",
       "      <td>treatment</td>\n",
       "      <td>new_page</td>\n",
       "      <td>0</td>\n",
       "    </tr>\n",
       "    <tr>\n",
       "      <th>4</th>\n",
       "      <td>864975</td>\n",
       "      <td>2017-01-21 01:52:26.210827</td>\n",
       "      <td>control</td>\n",
       "      <td>old_page</td>\n",
       "      <td>1</td>\n",
       "    </tr>\n",
       "    <tr>\n",
       "      <th>...</th>\n",
       "      <td>...</td>\n",
       "      <td>...</td>\n",
       "      <td>...</td>\n",
       "      <td>...</td>\n",
       "      <td>...</td>\n",
       "    </tr>\n",
       "    <tr>\n",
       "      <th>294473</th>\n",
       "      <td>751197</td>\n",
       "      <td>2017-01-03 22:28:38.630509</td>\n",
       "      <td>control</td>\n",
       "      <td>old_page</td>\n",
       "      <td>0</td>\n",
       "    </tr>\n",
       "    <tr>\n",
       "      <th>294474</th>\n",
       "      <td>945152</td>\n",
       "      <td>2017-01-12 00:51:57.078372</td>\n",
       "      <td>control</td>\n",
       "      <td>old_page</td>\n",
       "      <td>0</td>\n",
       "    </tr>\n",
       "    <tr>\n",
       "      <th>294475</th>\n",
       "      <td>734608</td>\n",
       "      <td>2017-01-22 11:45:03.439544</td>\n",
       "      <td>control</td>\n",
       "      <td>old_page</td>\n",
       "      <td>0</td>\n",
       "    </tr>\n",
       "    <tr>\n",
       "      <th>294476</th>\n",
       "      <td>697314</td>\n",
       "      <td>2017-01-15 01:20:28.957438</td>\n",
       "      <td>control</td>\n",
       "      <td>old_page</td>\n",
       "      <td>0</td>\n",
       "    </tr>\n",
       "    <tr>\n",
       "      <th>294477</th>\n",
       "      <td>715931</td>\n",
       "      <td>2017-01-16 12:40:24.467417</td>\n",
       "      <td>treatment</td>\n",
       "      <td>new_page</td>\n",
       "      <td>0</td>\n",
       "    </tr>\n",
       "  </tbody>\n",
       "</table>\n",
       "<p>290584 rows × 5 columns</p>\n",
       "</div>"
      ],
      "text/plain": [
       "        user_id                   timestamp      group landing_page  converted\n",
       "0        851104  2017-01-21 22:11:48.556739    control     old_page          0\n",
       "1        804228  2017-01-12 08:01:45.159739    control     old_page          0\n",
       "2        661590  2017-01-11 16:55:06.154213  treatment     new_page          0\n",
       "3        853541  2017-01-08 18:28:03.143765  treatment     new_page          0\n",
       "4        864975  2017-01-21 01:52:26.210827    control     old_page          1\n",
       "...         ...                         ...        ...          ...        ...\n",
       "294473   751197  2017-01-03 22:28:38.630509    control     old_page          0\n",
       "294474   945152  2017-01-12 00:51:57.078372    control     old_page          0\n",
       "294475   734608  2017-01-22 11:45:03.439544    control     old_page          0\n",
       "294476   697314  2017-01-15 01:20:28.957438    control     old_page          0\n",
       "294477   715931  2017-01-16 12:40:24.467417  treatment     new_page          0\n",
       "\n",
       "[290584 rows x 5 columns]"
      ]
     },
     "execution_count": 12,
     "metadata": {},
     "output_type": "execute_result"
    }
   ],
   "source": [
    "df_clean"
   ]
  },
  {
   "cell_type": "code",
   "execution_count": 6,
   "id": "2f33d8ad-717f-4b1c-b7d3-0993c1078ab8",
   "metadata": {},
   "outputs": [
    {
     "name": "stdout",
     "output_type": "stream",
     "text": [
      "Control group size: 145274\n",
      "Treatment group size: 145310\n"
     ]
    }
   ],
   "source": [
    "# Divide up control and treatment group\n",
    "\n",
    "df_control = df_clean.query('group == \"control\" and landing_page == \"old_page\"')\n",
    "df_treatment = df_clean.query('group == \"treatment\" and landing_page == \"new_page\"')\n",
    "\n",
    "# Compute the grup size\n",
    "n_control = df_control.shape[0]\n",
    "n_treatment = df_treatment.shape[0]\n",
    "print('Control group size:', n_control)\n",
    "print('Treatment group size:', n_treatment)"
   ]
  },
  {
   "cell_type": "code",
   "execution_count": 7,
   "id": "05f2d584-8251-4b3f-9ce9-3686d1c6e7bc",
   "metadata": {},
   "outputs": [
    {
     "name": "stdout",
     "output_type": "stream",
     "text": [
      "Conversion rate - control: 12.04%\n",
      "Conversion rate - treatment: 11.88%\n"
     ]
    }
   ],
   "source": [
    "# Calculate conversion rate (cr)\n",
    "\n",
    "cr_control = df_control['converted'].mean()\n",
    "cr_treatment = df_treatment['converted'].mean()\n",
    "print('Conversion rate - control: {:.2f}%'.format(cr_control * 100))\n",
    "print('Conversion rate - treatment: {:.2f}%'.format(cr_treatment * 100))"
   ]
  },
  {
   "cell_type": "markdown",
   "id": "b796fc3a-d5be-477e-96e1-57e6691bb4c7",
   "metadata": {},
   "source": [
    "The actual conversion rate is higher for the control group with the old page. Considering the extra resources to launch a new page (i.e. time, costs, etc.), it is not a good idea to invest into the new page which is expected to produce lower conversion rate.\n",
    "\n",
    "Now, let's simulate the results under the null hypothesis to validate statistical significance of this result. \n",
    "The null assumes the difference between control and treatment is zero. "
   ]
  },
  {
   "cell_type": "code",
   "execution_count": 8,
   "id": "92f78d9d-90e8-499b-b723-56ffed692c54",
   "metadata": {},
   "outputs": [
    {
     "name": "stderr",
     "output_type": "stream",
     "text": [
      "100%|██████████| 10000/10000 [00:37<00:00, 268.99it/s]\n"
     ]
    }
   ],
   "source": [
    "# Run simulation under the null hypothesis\n",
    "\n",
    "cr_diff_null = []\n",
    "\n",
    "n_sim = 10000\n",
    "cr_null = df_clean['converted'].mean()\n",
    "\n",
    "for i in tqdm(range(n_sim)):\n",
    "    sim_conv_control = np.random.binomial(1, cr_null, n_control)\n",
    "    sim_conv_treatment = np.random.binomial(1, cr_null, n_treatment)\n",
    "    \n",
    "    cr_diff = sim_conv_treatment.mean() - sim_conv_control.mean()\n",
    "    cr_diff_null.append(cr_diff)\n",
    "    "
   ]
  },
  {
   "cell_type": "code",
   "execution_count": 9,
   "id": "78e726cc-9a04-46ea-85b3-de5a3b1eb1ab",
   "metadata": {},
   "outputs": [
    {
     "data": {
      "image/png": "[encoded data removed]",
      "text/plain": [
       "<Figure size 432x288 with 1 Axes>"
      ]
     },
     "metadata": {
      "needs_background": "light"
     },
     "output_type": "display_data"
    }
   ],
   "source": [
    "plt.hist(cr_diff_null)\n",
    "plt.title('Simulated sampling distributions under null')\n",
    "plt.xlabel('conversion rate')\n",
    "plt.show()"
   ]
  },
  {
   "cell_type": "markdown",
   "id": "498c2426-0209-4df3-b530-d9c06a763a9b",
   "metadata": {},
   "source": [
    "The samples are normally distributed - Z score will be calculated for the actual conversion rate difference. P-value will tell the probability of observing the statistics given that the null hypothesis is true."
   ]
  },
  {
   "cell_type": "code",
   "execution_count": 10,
   "id": "20629072-19d0-4476-af65-2976648fb571",
   "metadata": {},
   "outputs": [
    {
     "data": {
      "text/plain": [
       "-0.0015782389853555567"
      ]
     },
     "execution_count": 10,
     "metadata": {},
     "output_type": "execute_result"
    }
   ],
   "source": [
    "# Calculate the actual difference in conversion rate\n",
    "\n",
    "cr_diff_actual = cr_treatment - cr_control\n",
    "cr_diff_actual"
   ]
  },
  {
   "cell_type": "code",
   "execution_count": 12,
   "id": "eb9fd22a-87d4-41d0-9504-cc59163c241e",
   "metadata": {},
   "outputs": [
    {
     "data": {
      "text/plain": [
       "0.9009"
      ]
     },
     "execution_count": 12,
     "metadata": {},
     "output_type": "execute_result"
    }
   ],
   "source": [
    "# Calculate p-value (one-sided)\n",
    "\n",
    "(cr_diff_actual < cr_diff_null).mean()"
   ]
  },
  {
   "cell_type": "markdown",
   "id": "3800c246-2de3-4b28-9dab-15fd9f80d4b9",
   "metadata": {},
   "source": [
    "The c p_value (**0.9009**) is extremely higher than the alpha rate 0.05 (a Type I error), indicating it fails to reject the the null hypothesis ( $H_{0}: C_{new}-C_{old}<=0$). Therefore, the new page is not effective than the old page in terms of conversion rate."
   ]
  },
  {
   "cell_type": "markdown",
   "id": "bd5405ba-8fc5-429a-848b-ece3fd9723f3",
   "metadata": {},
   "source": [
    "### Method 2 : Z-test\n",
    "Using statsmodels API\n",
    "\n",
    "    import statsmodels.api as sm\n",
    "    from scipy.stats import norm"
   ]
  },
  {
   "cell_type": "code",
   "execution_count": 14,
   "id": "4efbe549-bf25-409e-848e-3062797c643e",
   "metadata": {},
   "outputs": [],
   "source": [
    "conv_control = df_control['converted'].sum()\n",
    "conv_treatment = df_treatment['converted'].sum()\n",
    "n_control = df_control.shape[0]\n",
    "n_treatment = df_treatment.shape[0]"
   ]
  },
  {
   "cell_type": "code",
   "execution_count": 20,
   "id": "85549a6d-0323-4576-9862-881c6f2ff339",
   "metadata": {},
   "outputs": [
    {
     "name": "stdout",
     "output_type": "stream",
     "text": [
      "Z score: 1.3109241984234394\n",
      "P value: 0.9050583127590245\n"
     ]
    }
   ],
   "source": [
    "z_score, p_val = sm.stats.proportions_ztest(count=[conv_control, conv_treatment], \n",
    "                                            nobs=[n_control, n_treatment], \n",
    "                                            alternative='smaller') # In the two sample test, \n",
    "                                            # smaller means that the alternative hypothesis is ``p1 < p2`\n",
    "print('Z score:', z_score)\n",
    "print('P value:', p_val)"
   ]
  },
  {
   "cell_type": "code",
   "execution_count": null,
   "id": "fbd4d113-149a-46af-bda5-99f012cff5ed",
   "metadata": {},
   "outputs": [
    {
     "name": "stdout",
     "output_type": "stream",
     "text": [
      "Critical value: 1.6448536269514722\n"
     ]
    }
   ],
   "source": [
    "# This time,\n",
    "# use z-score to make a decision\n",
    "\n",
    "crit_val = norm.ppf(1-0.05)\n",
    "print('Critical value:' crit_val)"
   ]
  },
  {
   "cell_type": "markdown",
   "id": "9c6d3de5-6cd6-4d61-9c00-ef1c00724147",
   "metadata": {},
   "source": [
    "The computed z-score for the two sample test is 1.31, which is less than the critical value of 1.64 (alpha=0.05, one-sided), meaning it fails to reject the null. In more intutive description, the conversion on the new page is no better than that on the old page - the same result as the previous case using simulation."
   ]
  },
  {
   "cell_type": "markdown",
   "id": "ead471b7-4275-4caf-bd58-871bd92fe617",
   "metadata": {},
   "source": [
    "### Method 3. Regression\n",
    "Using statsmodels API\n",
    "\n",
    "    import statsmodels.formula.api as smf\n",
    "    "
   ]
  },
  {
   "cell_type": "code",
   "execution_count": 22,
   "id": "15754c1b-79ec-4df3-b91b-12ae57a7b17e",
   "metadata": {},
   "outputs": [
    {
     "data": {
      "text/html": [
       "<div>\n",
       "<style scoped>\n",
       "    .dataframe tbody tr th:only-of-type {\n",
       "        vertical-align: middle;\n",
       "    }\n",
       "\n",
       "    .dataframe tbody tr th {\n",
       "        vertical-align: top;\n",
       "    }\n",
       "\n",
       "    .dataframe thead th {\n",
       "        text-align: right;\n",
       "    }\n",
       "</style>\n",
       "<table border=\"1\" class=\"dataframe\">\n",
       "  <thead>\n",
       "    <tr style=\"text-align: right;\">\n",
       "      <th></th>\n",
       "      <th>user_id</th>\n",
       "      <th>timestamp</th>\n",
       "      <th>group</th>\n",
       "      <th>landing_page</th>\n",
       "      <th>converted</th>\n",
       "    </tr>\n",
       "  </thead>\n",
       "  <tbody>\n",
       "    <tr>\n",
       "      <th>0</th>\n",
       "      <td>851104</td>\n",
       "      <td>2017-01-21 22:11:48.556739</td>\n",
       "      <td>control</td>\n",
       "      <td>old_page</td>\n",
       "      <td>0</td>\n",
       "    </tr>\n",
       "    <tr>\n",
       "      <th>1</th>\n",
       "      <td>804228</td>\n",
       "      <td>2017-01-12 08:01:45.159739</td>\n",
       "      <td>control</td>\n",
       "      <td>old_page</td>\n",
       "      <td>0</td>\n",
       "    </tr>\n",
       "    <tr>\n",
       "      <th>2</th>\n",
       "      <td>661590</td>\n",
       "      <td>2017-01-11 16:55:06.154213</td>\n",
       "      <td>treatment</td>\n",
       "      <td>new_page</td>\n",
       "      <td>0</td>\n",
       "    </tr>\n",
       "  </tbody>\n",
       "</table>\n",
       "</div>"
      ],
      "text/plain": [
       "   user_id                   timestamp      group landing_page  converted\n",
       "0   851104  2017-01-21 22:11:48.556739    control     old_page          0\n",
       "1   804228  2017-01-12 08:01:45.159739    control     old_page          0\n",
       "2   661590  2017-01-11 16:55:06.154213  treatment     new_page          0"
      ]
     },
     "execution_count": 22,
     "metadata": {},
     "output_type": "execute_result"
    }
   ],
   "source": [
    "df_clean.head(3)"
   ]
  },
  {
   "cell_type": "code",
   "execution_count": 32,
   "id": "f69545b4-5eba-4608-ab19-b6017f835be1",
   "metadata": {},
   "outputs": [
    {
     "data": {
      "text/html": [
       "<div>\n",
       "<style scoped>\n",
       "    .dataframe tbody tr th:only-of-type {\n",
       "        vertical-align: middle;\n",
       "    }\n",
       "\n",
       "    .dataframe tbody tr th {\n",
       "        vertical-align: top;\n",
       "    }\n",
       "\n",
       "    .dataframe thead th {\n",
       "        text-align: right;\n",
       "    }\n",
       "</style>\n",
       "<table border=\"1\" class=\"dataframe\">\n",
       "  <thead>\n",
       "    <tr style=\"text-align: right;\">\n",
       "      <th></th>\n",
       "      <th>user_id</th>\n",
       "      <th>timestamp</th>\n",
       "      <th>group</th>\n",
       "      <th>landing_page</th>\n",
       "      <th>converted</th>\n",
       "      <th>group_num</th>\n",
       "    </tr>\n",
       "  </thead>\n",
       "  <tbody>\n",
       "    <tr>\n",
       "      <th>0</th>\n",
       "      <td>851104</td>\n",
       "      <td>2017-01-21 22:11:48.556739</td>\n",
       "      <td>control</td>\n",
       "      <td>old_page</td>\n",
       "      <td>0</td>\n",
       "      <td>0</td>\n",
       "    </tr>\n",
       "    <tr>\n",
       "      <th>1</th>\n",
       "      <td>804228</td>\n",
       "      <td>2017-01-12 08:01:45.159739</td>\n",
       "      <td>control</td>\n",
       "      <td>old_page</td>\n",
       "      <td>0</td>\n",
       "      <td>0</td>\n",
       "    </tr>\n",
       "    <tr>\n",
       "      <th>2</th>\n",
       "      <td>661590</td>\n",
       "      <td>2017-01-11 16:55:06.154213</td>\n",
       "      <td>treatment</td>\n",
       "      <td>new_page</td>\n",
       "      <td>0</td>\n",
       "      <td>1</td>\n",
       "    </tr>\n",
       "  </tbody>\n",
       "</table>\n",
       "</div>"
      ],
      "text/plain": [
       "   user_id                   timestamp      group landing_page  converted  \\\n",
       "0   851104  2017-01-21 22:11:48.556739    control     old_page          0   \n",
       "1   804228  2017-01-12 08:01:45.159739    control     old_page          0   \n",
       "2   661590  2017-01-11 16:55:06.154213  treatment     new_page          0   \n",
       "\n",
       "   group_num  \n",
       "0          0  \n",
       "1          0  \n",
       "2          1  "
      ]
     },
     "execution_count": 32,
     "metadata": {},
     "output_type": "execute_result"
    }
   ],
   "source": [
    "# Map groups into numeric value\n",
    "\n",
    "df_clean['group_num'] = df_clean['group'].map({'control':0, 'treatment':1})\n",
    "df_clean.head(3)"
   ]
  },
  {
   "cell_type": "code",
   "execution_count": 34,
   "id": "11cbef87-bea0-4704-975b-9988758cd643",
   "metadata": {},
   "outputs": [
    {
     "name": "stdout",
     "output_type": "stream",
     "text": [
      "Optimization terminated successfully.\n",
      "         Current function value: 0.366118\n",
      "         Iterations 6\n"
     ]
    },
    {
     "data": {
      "text/html": [
       "<table class=\"simpletable\">\n",
       "<caption>Logit Regression Results</caption>\n",
       "<tr>\n",
       "  <th>Dep. Variable:</th>       <td>converted</td>    <th>  No. Observations:  </th>   <td>290584</td>   \n",
       "</tr>\n",
       "<tr>\n",
       "  <th>Model:</th>                 <td>Logit</td>      <th>  Df Residuals:      </th>   <td>290582</td>   \n",
       "</tr>\n",
       "<tr>\n",
       "  <th>Method:</th>                 <td>MLE</td>       <th>  Df Model:          </th>   <td>     1</td>   \n",
       "</tr>\n",
       "<tr>\n",
       "  <th>Date:</th>            <td>Sun, 13 Feb 2022</td> <th>  Pseudo R-squ.:     </th>  <td>8.077e-06</td> \n",
       "</tr>\n",
       "<tr>\n",
       "  <th>Time:</th>                <td>11:24:18</td>     <th>  Log-Likelihood:    </th> <td>-1.0639e+05</td>\n",
       "</tr>\n",
       "<tr>\n",
       "  <th>converged:</th>             <td>True</td>       <th>  LL-Null:           </th> <td>-1.0639e+05</td>\n",
       "</tr>\n",
       "<tr>\n",
       "  <th>Covariance Type:</th>     <td>nonrobust</td>    <th>  LLR p-value:       </th>   <td>0.1899</td>   \n",
       "</tr>\n",
       "</table>\n",
       "<table class=\"simpletable\">\n",
       "<tr>\n",
       "      <td></td>         <th>coef</th>     <th>std err</th>      <th>z</th>      <th>P>|z|</th>  <th>[0.025</th>    <th>0.975]</th>  \n",
       "</tr>\n",
       "<tr>\n",
       "  <th>Intercept</th> <td>   -1.9888</td> <td>    0.008</td> <td> -246.669</td> <td> 0.000</td> <td>   -2.005</td> <td>   -1.973</td>\n",
       "</tr>\n",
       "<tr>\n",
       "  <th>group_num</th> <td>   -0.0150</td> <td>    0.011</td> <td>   -1.311</td> <td> 0.190</td> <td>   -0.037</td> <td>    0.007</td>\n",
       "</tr>\n",
       "</table>"
      ],
      "text/plain": [
       "<class 'statsmodels.iolib.summary.Summary'>\n",
       "\"\"\"\n",
       "                           Logit Regression Results                           \n",
       "==============================================================================\n",
       "Dep. Variable:              converted   No. Observations:               290584\n",
       "Model:                          Logit   Df Residuals:                   290582\n",
       "Method:                           MLE   Df Model:                            1\n",
       "Date:                Sun, 13 Feb 2022   Pseudo R-squ.:               8.077e-06\n",
       "Time:                        11:24:18   Log-Likelihood:            -1.0639e+05\n",
       "converged:                       True   LL-Null:                   -1.0639e+05\n",
       "Covariance Type:            nonrobust   LLR p-value:                    0.1899\n",
       "==============================================================================\n",
       "                 coef    std err          z      P>|z|      [0.025      0.975]\n",
       "------------------------------------------------------------------------------\n",
       "Intercept     -1.9888      0.008   -246.669      0.000      -2.005      -1.973\n",
       "group_num     -0.0150      0.011     -1.311      0.190      -0.037       0.007\n",
       "==============================================================================\n",
       "\"\"\""
      ]
     },
     "execution_count": 34,
     "metadata": {},
     "output_type": "execute_result"
    }
   ],
   "source": [
    "# Fit logistic regression model\n",
    "\n",
    "model = smf.logit(formula='converted~group_num', data=df_clean).fit()\n",
    "model.summary()"
   ]
  },
  {
   "cell_type": "markdown",
   "id": "fd05e8e1-64a7-44e3-afc5-0ff03baa6a69",
   "metadata": {},
   "source": [
    "The resulted p-value (0.190) is far greater than the alpha rate of 0.05. Therefore, the effect between old and new page into conversion rate is not statistically significant."
   ]
  },
  {
   "cell_type": "code",
   "execution_count": null,
   "id": "eb8799ee-bb18-4599-8b8e-6e8ab39de1e0",
   "metadata": {},
   "outputs": [],
   "source": []
  }
 ],
 "metadata": {
  "kernelspec": {
   "display_name": "Python 3",
   "language": "python",
   "name": "python3"
  },
  "language_info": {
   "codemirror_mode": {
    "name": "ipython",
    "version": 3
   },
   "file_extension": ".py",
   "mimetype": "text/x-python",
   "name": "python",
   "nbconvert_exporter": "python",
   "pygments_lexer": "ipython3",
   "version": "3.8.8"
  }
 },
 "nbformat": 4,
 "nbformat_minor": 5
}
